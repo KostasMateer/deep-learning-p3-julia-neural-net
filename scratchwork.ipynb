{
 "cells": [
  {
   "cell_type": "code",
   "execution_count": 1,
   "id": "9279d18d-9dc4-4b41-8f81-88cdcb8c02f1",
   "metadata": {},
   "outputs": [
    {
     "name": "stderr",
     "output_type": "stream",
     "text": [
      "\u001b[32m\u001b[1m  Activating\u001b[22m\u001b[39m project at `~/Workspace/CSC381/projects/dl_f22_project-3-hooded-seal`\n"
     ]
    }
   ],
   "source": [
    "using Pkg\n",
    "Pkg.activate(\".\")\n",
    "using Revise"
   ]
  },
  {
   "cell_type": "code",
   "execution_count": 12,
   "id": "17d17956-30a6-4592-893d-530881c177de",
   "metadata": {},
   "outputs": [],
   "source": [
    "includet(\"activations.jl\")\n",
    "includet(\"neural_net_training.jl\")\n",
    "includet(\"generate_data.jl\")\n",
    "includet(\"plot_models.jl\")"
   ]
  },
  {
   "cell_type": "code",
   "execution_count": 4,
   "id": "dd8ff829-ff05-4c0a-bb70-6b109f2b0603",
   "metadata": {},
   "outputs": [
    {
     "data": {
      "text/plain": [
       "([-0.7200895971047184 1.1792759096280951; -0.2985091962339701 0.6127903152896614; … ; -0.9486254936873102 1.1116790557227758; -0.6450237022712564 1.3050297640819066], [1.0, 0.0, 0.0, 0.0, 1.0, 1.0, 0.0, 1.0, 0.0, 1.0  …  1.0, 1.0, 1.0, 1.0, 1.0, 0.0, 0.0, 0.0, 0.0, 0.0])"
      ]
     },
     "execution_count": 4,
     "metadata": {},
     "output_type": "execute_result"
    }
   ],
   "source": [
    "(classification_inputs_2d, classification_targets_2d) = generate_classification_data(200, 2; num_clusters=4, lb=-1, ub=1, var=.1, covar=0)"
   ]
  },
  {
   "cell_type": "code",
   "execution_count": 51,
   "id": "0394749e-9de3-4d13-a60a-d9ac0430a7b5",
   "metadata": {},
   "outputs": [
    {
     "data": {
      "text/plain": [
       "NeuralNetwork(Input[Input(NaN), Input(NaN)], Vector{Neuron}[], Neuron[Neuron([0.01403419042855745, -0.01878935998213174], 1.6863475435754416, sigmoid_activation, sigmoid_derivative, NaN, NaN)])"
      ]
     },
     "execution_count": 51,
     "metadata": {},
     "output_type": "execute_result"
    }
   ],
   "source": [
    "nn = NeuralNetwork(2, 1, [], sigmoid_activation)\n",
    "# nn = NeuralNetwork(2, 1, [20], [ReLU_activation, tanh_activation, sigmoid_activation])"
   ]
  },
  {
   "cell_type": "code",
   "execution_count": 11,
   "id": "0cb4c356-3e89-49fa-95ca-cb53c6c3946f",
   "metadata": {},
   "outputs": [
    {
     "data": {
      "text/plain": [
       "2-element Vector{Input}:\n",
       " Input(NaN)\n",
       " Input(NaN)"
      ]
     },
     "execution_count": 11,
     "metadata": {},
     "output_type": "execute_result"
    }
   ],
   "source": [
    "nn.input_layer"
   ]
  },
  {
   "cell_type": "code",
   "execution_count": 36,
   "id": "4301a3e1-d230-4c84-8dbd-ea69b40a40ad",
   "metadata": {},
   "outputs": [
    {
     "data": {
      "text/plain": [
       "2×5 Matrix{Float64}:\n",
       " 4.0  5.0  3.0  2.0  1.0\n",
       " 0.0  0.0  0.0  0.0  0.0"
      ]
     },
     "execution_count": 36,
     "metadata": {},
     "output_type": "execute_result"
    }
   ],
   "source": [
    "M = zeros(2, 5)\n",
    "M[1, :] = [4, 5, 3, 2, 1]\n",
    "M"
   ]
  },
  {
   "cell_type": "code",
   "execution_count": 64,
   "id": "505ca5bb-e1f1-464e-b163-309a90e2b683",
   "metadata": {},
   "outputs": [
    {
     "data": {
      "text/plain": [
       "1×2 Matrix{Float64}:\n",
       " 0.830954  0.855088"
      ]
     },
     "execution_count": 64,
     "metadata": {},
     "output_type": "execute_result"
    }
   ],
   "source": [
    "M = [0 5; 9 2]\n",
    "display(predict(nn, M)\n",
    "# println(nn.output_layer[1].a)"
   ]
  },
  {
   "cell_type": "code",
   "execution_count": 22,
   "id": "c5abc497-6166-4b6c-b895-fcbef17e0bff",
   "metadata": {},
   "outputs": [
    {
     "ename": "LoadError",
     "evalue": "unimplemented",
     "output_type": "error",
     "traceback": [
      "unimplemented",
      "",
      "Stacktrace:",
      " [1] error(s::String)",
      "   @ Base ./error.jl:33",
      " [2] predict!(model::NeuralNetwork, data_point::Vector{Float64})",
      "   @ Main ~/Workspace/CSC381/projects/dl_f22_project-3-hooded-seal/neural_net_training.jl:10",
      " [3] plot_classifier(model::NeuralNetwork, inputs::Matrix{Float64}, targets::Vector{Float64}; resolution::Int64)",
      "   @ Main ~/Workspace/CSC381/projects/dl_f22_project-3-hooded-seal/plot_models.jl:33",
      " [4] top-level scope",
      "   @ In[22]:1",
      " [5] eval",
      "   @ ./boot.jl:373 [inlined]",
      " [6] include_string(mapexpr::typeof(REPL.softscope), mod::Module, code::String, filename::String)",
      "   @ Base ./loading.jl:1196"
     ]
    }
   ],
   "source": [
    "plot_classifier(nn, classification_inputs_2d, classification_targets_2d; resolution=100)"
   ]
  },
  {
   "cell_type": "code",
   "execution_count": null,
   "id": "da2275fc-0de4-4df3-92c9-1f2ee825328d",
   "metadata": {},
   "outputs": [],
   "source": [
    "train!(nn, classification_inputs_2d, classification_targets_2d, 0.01, 1000)"
   ]
  },
  {
   "cell_type": "code",
   "execution_count": null,
   "id": "e68eae7e-d616-462b-a488-c8b01b3c486b",
   "metadata": {},
   "outputs": [],
   "source": [
    "plot_classifier(nn, classification_inputs_2d, classification_targets_2d; resolution=100)"
   ]
  },
  {
   "cell_type": "code",
   "execution_count": 3,
   "id": "394e2f6d-39b7-4ee3-8432-a137bc976142",
   "metadata": {},
   "outputs": [
    {
     "data": {
      "text/plain": [
       "10"
      ]
     },
     "execution_count": 3,
     "metadata": {},
     "output_type": "execute_result"
    }
   ],
   "source": [
    "max(0, 10)"
   ]
  },
  {
   "cell_type": "code",
   "execution_count": 4,
   "id": "d5a46600-0c88-49be-aceb-79aa5db71b38",
   "metadata": {},
   "outputs": [
    {
     "data": {
      "text/plain": [
       "4"
      ]
     },
     "execution_count": 4,
     "metadata": {},
     "output_type": "execute_result"
    }
   ],
   "source": [
    "2^2"
   ]
  },
  {
   "cell_type": "code",
   "execution_count": null,
   "id": "341cb115-16ff-4fcb-9b56-6d25caddbe54",
   "metadata": {},
   "outputs": [],
   "source": []
  }
 ],
 "metadata": {
  "kernelspec": {
   "display_name": "Julia 1.7.0",
   "language": "julia",
   "name": "julia-1.7"
  },
  "language_info": {
   "file_extension": ".jl",
   "mimetype": "application/julia",
   "name": "julia",
   "version": "1.7.0"
  }
 },
 "nbformat": 4,
 "nbformat_minor": 5
}
